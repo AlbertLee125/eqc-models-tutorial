{
 "cells": [
  {
   "cell_type": "markdown",
   "id": "a76d642c",
   "metadata": {},
   "source": [
    "# Separation\n",
    "\n",
    "[![Open in Colab](https://colab.research.google.com/assets/colab-badge.svg)](https://colab.research.google.com/github/qci-wdyk/eqc-models-tutorial/blob/main/tutorial05-setpartition.ipynb)\n"
   ]
  },
  {
   "cell_type": "code",
   "execution_count": null,
   "id": "a11b42c2",
   "metadata": {},
   "outputs": [],
   "source": [
    "# If using this in Google Colab, we need to install the required packages\n",
    "try:\n",
    "    import google.colab\n",
    "    IN_COLAB = True\n",
    "except ImportError:\n",
    "    IN_COLAB = False\n",
    "\n",
    "if IN_COLAB:\n",
    "    !pip install eqc-models==0.12.0 # The version may change, check the latest on PyPI"
   ]
  },
  {
   "cell_type": "code",
   "execution_count": 1,
   "id": "87518ca6-ce20-4027-b113-167eb8884eda",
   "metadata": {},
   "outputs": [],
   "source": [
    "import numpy as np\n",
    "from eqc_models.combinatorics import SetPartitionModel\n",
    "from eqc_models.solvers import Dirac3IntegerCloudSolver"
   ]
  },
  {
   "cell_type": "code",
   "execution_count": 2,
   "id": "b3ccacad-21c2-440f-9e13-6a31ce51f65e",
   "metadata": {},
   "outputs": [],
   "source": [
    "S = [{\"A\", \"B\"}, {\"A\", \"C\"}, {\"B\"}, {\"C\"}]\n",
    "weights = [4, 4, 1, 3]"
   ]
  },
  {
   "cell_type": "code",
   "execution_count": 3,
   "id": "0f0fd2e6-145c-4bea-ac01-2af24fb4ffe7",
   "metadata": {},
   "outputs": [],
   "source": [
    "model = SetPartitionModel(S, weights)\n",
    "model.penalty_multiplier = 10"
   ]
  },
  {
   "cell_type": "code",
   "execution_count": 4,
   "id": "c77692ea-220f-4c8e-bf7e-9742ebf63b89",
   "metadata": {},
   "outputs": [],
   "source": [
    "solver = Dirac3IntegerCloudSolver()"
   ]
  },
  {
   "cell_type": "code",
   "execution_count": 5,
   "id": "bf50645c-6393-42a6-997b-7d0a104a0ce9",
   "metadata": {},
   "outputs": [
    {
     "name": "stdout",
     "output_type": "stream",
     "text": [
      "2025-03-14 23:07:36 - Dirac allocation balance = 0 s (unmetered)\n",
      "2025-03-14 23:07:36 - Job submitted: job_id='67d50b1700e804f113aefcae'\n",
      "2025-03-14 23:07:36 - QUEUED\n",
      "2025-03-14 23:07:38 - RUNNING\n",
      "2025-03-14 23:07:44 - COMPLETED\n",
      "2025-03-14 23:07:46 - Dirac allocation balance = 0 s (unmetered)\n"
     ]
    }
   ],
   "source": [
    "response = solver.solve(model, relaxation_schedule=1, num_samples=5)"
   ]
  },
  {
   "cell_type": "code",
   "execution_count": 6,
   "id": "13bdfd3f-600c-49d2-908e-ac1ca8ff1108",
   "metadata": {},
   "outputs": [
    {
     "data": {
      "text/plain": [
       "([0, 1, 1, 0], {'A', 'B', 'C'})"
      ]
     },
     "execution_count": 6,
     "metadata": {},
     "output_type": "execute_result"
    }
   ],
   "source": [
    "solution = response[\"results\"][\"solutions\"][0]\n",
    "U = set()\n",
    "\n",
    "for i in range(len(solution)):\n",
    "    if solution[i] == 1:\n",
    "        U = U.union(S[i])\n",
    "solution, U"
   ]
  },
  {
   "cell_type": "code",
   "execution_count": null,
   "id": "fe6cb7c5-5e52-49c3-9665-c346f2173b5b",
   "metadata": {},
   "outputs": [],
   "source": []
  }
 ],
 "metadata": {
  "kernelspec": {
   "display_name": "eqc-models-tutorial",
   "language": "python",
   "name": "eqc-models-tutorial"
  },
  "language_info": {
   "codemirror_mode": {
    "name": "ipython",
    "version": 3
   },
   "file_extension": ".py",
   "mimetype": "text/x-python",
   "name": "python",
   "nbconvert_exporter": "python",
   "pygments_lexer": "ipython3",
   "version": "3.10.16"
  }
 },
 "nbformat": 4,
 "nbformat_minor": 5
}
