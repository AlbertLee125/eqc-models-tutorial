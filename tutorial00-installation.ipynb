{
 "cells": [
  {
   "cell_type": "markdown",
   "id": "d96c7f2e-d4cc-4a29-9f05-392f21d23d05",
   "metadata": {},
   "source": [
    "# Installation\n",
    "\n",
    "## Python Versions\n",
    "Python 3.10.14 is recommended. Python 3.11 and higher are not supported (YET) due to dependency requirements.\n",
    "\n",
    "## Installation\n",
    "`pip install eqc-models matplotlib jupyter`."
   ]
  },
  {
   "cell_type": "markdown",
   "id": "1c2b1a0e-9391-4674-afae-4a1f4a80edc3",
   "metadata": {},
   "source": [
    "## Access to the Cloud Service\n",
    "\n",
    "These notebooks utilize the cloud service access for Dirac-1 and Dirac-3. An account is required, but we provide 10 minutes of trial access for no cost. Go to quantumcomputinginc.com and click \"Get started for free\", then follow the instructions to get an API token.\n",
    "\n",
    "[https://quantumcomputinginc.com](https://quantumcomputinginc.com)"
   ]
  },
  {
   "cell_type": "markdown",
   "id": "46ae4439-4385-4fcf-a5af-68ea4735edca",
   "metadata": {},
   "source": [
    "## Environment Setup\n",
    "\n",
    "There are detailed instructions on the page for how to configure your environment.\n",
    "\n",
    "### Python Virtual Environment\n",
    "\n",
    "A virtual environment is recommended to run the tutorial notebooks. \n",
    "\n",
    "### Environment Variables\n",
    "\n",
    "While the client connection can be configured in code, it is recommended to use environment variables to handle the configuration. This is how it is done in the tutorial.\n",
    "\n",
    "Two variables are needed:\n",
    "\n",
    "`QCI_TOKEN=xxxxxxxxxxxxxx`\n",
    "\n",
    "`QCI_API_URL=https://api.qci-prod.com`"
   ]
  }
 ],
 "metadata": {
  "kernelspec": {
   "display_name": "eqc-models-tutorial",
   "language": "python",
   "name": "eqc-models-tutorial"
  },
  "language_info": {
   "codemirror_mode": {
    "name": "ipython",
    "version": 3
   },
   "file_extension": ".py",
   "mimetype": "text/x-python",
   "name": "python",
   "nbconvert_exporter": "python",
   "pygments_lexer": "ipython3",
   "version": "3.10.16"
  }
 },
 "nbformat": 4,
 "nbformat_minor": 5
}
