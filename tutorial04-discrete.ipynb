{
 "cells": [
  {
   "cell_type": "markdown",
   "id": "69e4ea42-a7ce-469c-848f-f6ac10052b48",
   "metadata": {},
   "source": [
    "# Dirac-3 Discrete\n",
    "\n",
    "## Encoding\n",
    "\n",
    "Dirac-3 encodes integer variables using 1 value in a time bin for a certain variable. This means that a problem with two binary variables uses four time bins. Distillation is also required for this encoding. Considering the time bins as a histogram, one possibility for decoding the state vector is choosing the mode of the time bins associated with a single qudit. Another option is to sample the distributions for each qudit and generate a large number of samples, then choose the best samples for the number of samples requested.\n",
    "\n",
    "This encoding causes the number of qudits allowed to be restricted by the sum of the levels chosen for the qudits. The values 0 and 1 for a qudit are two distinct levels.\n",
    "\n",
    "### How eqc-models handles levels\n",
    "\n",
    "The eqc-models package handles setting the levels for integer problems through the `upper_bound` attribute on a model. Setting `model.upper_bound=np.ones((n,))` indicates 2 levels for each of `n` variables. So, a variable can take on integer values between 0 and levels minus 1. *Note: integer support beyond 2 levels is experimental.*\n",
    "\n",
    "## No Sum Constraint\n",
    "\n",
    "This encoding does not require a sum constraint value to be supplied."
   ]
  },
  {
   "cell_type": "code",
   "execution_count": 1,
   "id": "3b9f4d45-66dd-4912-aac6-83ed34e4c17f",
   "metadata": {},
   "outputs": [],
   "source": [
    "import numpy as np\n",
    "from eqc_models.base import PolynomialModel\n",
    "from eqc_models.solvers import Dirac3IntegerCloudSolver"
   ]
  },
  {
   "cell_type": "markdown",
   "id": "52874237-cbd4-4d84-bf84-30df31fa696e",
   "metadata": {},
   "source": [
    "## Polynomial\n",
    "$$\n",
    "E(x) = -x_1^2-x_2^2+2x_1x_2\n",
    "$$"
   ]
  },
  {
   "cell_type": "code",
   "execution_count": 2,
   "id": "db26c472-32f8-4b61-ad5a-8690ae79b82f",
   "metadata": {},
   "outputs": [],
   "source": [
    "coefficients = [-1, -1, 2]\n",
    "indices = [(1, 1), (2, 2), (1, 2)]\n",
    "model = PolynomialModel(coefficients, indices)\n",
    "model.upper_bound = np.ones((2,))"
   ]
  },
  {
   "cell_type": "code",
   "execution_count": 3,
   "id": "99c5febe-7cc7-473d-b2ac-ee51d1a6e008",
   "metadata": {},
   "outputs": [
    {
     "name": "stdout",
     "output_type": "stream",
     "text": [
      "2025-03-14 22:19:49 - Dirac allocation balance = 0 s (unmetered)\n",
      "2025-03-14 22:19:49 - Job submitted: job_id='67d4ffe500e804f113aefc99'\n",
      "2025-03-14 22:19:49 - QUEUED\n",
      "2025-03-14 22:20:18 - RUNNING\n",
      "2025-03-14 22:21:02 - COMPLETED\n",
      "2025-03-14 22:21:05 - Dirac allocation balance = 0 s (unmetered)\n"
     ]
    }
   ],
   "source": [
    "solver = Dirac3IntegerCloudSolver()\n",
    "response = solver.solve(model, relaxation_schedule=1, num_samples=10, mean_photon_number=0.1)"
   ]
  },
  {
   "cell_type": "code",
   "execution_count": 4,
   "id": "c2689226-c985-486d-a61b-208811619164",
   "metadata": {},
   "outputs": [
    {
     "name": "stdout",
     "output_type": "stream",
     "text": [
      "[[0, 1], [1, 0]]\n",
      "[-1, -1]\n",
      "[6, 4]\n"
     ]
    }
   ],
   "source": [
    "print(response[\"results\"][\"solutions\"])\n",
    "print(response[\"results\"][\"energies\"])\n",
    "print(response[\"results\"][\"counts\"])"
   ]
  },
  {
   "cell_type": "code",
   "execution_count": null,
   "id": "63c7f255-8dfa-4134-93d7-2266a519b501",
   "metadata": {},
   "outputs": [],
   "source": []
  }
 ],
 "metadata": {
  "kernelspec": {
   "display_name": "eqc-models-tutorial",
   "language": "python",
   "name": "eqc-models-tutorial"
  },
  "language_info": {
   "codemirror_mode": {
    "name": "ipython",
    "version": 3
   },
   "file_extension": ".py",
   "mimetype": "text/x-python",
   "name": "python",
   "nbconvert_exporter": "python",
   "pygments_lexer": "ipython3",
   "version": "3.10.16"
  }
 },
 "nbformat": 4,
 "nbformat_minor": 5
}
