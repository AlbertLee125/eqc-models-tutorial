{
 "cells": [
  {
   "cell_type": "markdown",
   "id": "b63dff3d-ddd6-43dc-9783-e2dfbcee4416",
   "metadata": {},
   "source": [
    "# eqc-models Brief"
   ]
  },
  {
   "cell_type": "markdown",
   "id": "19c79a23-7a3a-4acf-b79e-3be63494a519",
   "metadata": {},
   "source": [
    "\n",
    "## Modeling-first Pattern\n",
    "\n",
    "[![Open in Colab](https://colab.research.google.com/assets/colab-badge.svg)](https://colab.research.google.com/github/qci-wdyk/eqc-models-tutorial/blob/main/tutorial02-eqc-models.ipynb)\n",
    "\n",
    "<img style=\"display: block; margin-left: auto; margin-right: auto;\" src=\"images/model-operator-solver.png\" />\n",
    "\n",
    "**Solvers call for specific operators.**\n",
    "\n",
    "<img style=\"display: block; margin-left: auto; margin-right: auto;\" src=\"images/operator-solver.png\" />\n",
    "\n",
    "## Important Base Classes from eqc-models\n",
    "\n",
    "- `EQCModel`\n",
    "- `QuadraticModel` - offers both QUBO and Polynomial operators\n",
    "- `PolynomialModel` - offers both QUBO and Polynomial operators\n",
    "- `ConstraintsMixIn`\n",
    "- `InequalityConstraintMixin`\n"
   ]
  },
  {
   "cell_type": "markdown",
   "id": "82b984de-d0c8-44d2-b08b-6ce4880266e0",
   "metadata": {},
   "source": [
    "## Intended Usage\n",
    "\n",
    "`EQCModel` is an \"abstract\" class which defines some key interfaces. \n",
    "`QuadraticModel` and `PolynomialModel` are useful on their own, but the can also be used to build much more useful objects. \n",
    "\n",
    "Uses the **mixin design pattern** to incorporate functionality that can be shared across models and solvers.\n"
   ]
  },
  {
   "cell_type": "markdown",
   "id": "2df4b993-7936-4685-b0cd-40fe9ef992cf",
   "metadata": {},
   "source": [
    "### `QuadraticModel`\n",
    "\n",
    "$$\n",
    "E(x)=\\sum_i C_ix_i + \\sum_{ij} J_{ij}x_ix_j\n",
    "$$\n",
    "\n",
    "Specify a vector of linear coefficients and a matrix of quadratic coefficients. We'll call these `C` and `J`.\n"
   ]
  },
  {
   "cell_type": "code",
   "execution_count": null,
   "id": "f1c4aa09",
   "metadata": {},
   "outputs": [],
   "source": [
    "import sys\n",
    "\n",
    "# Check if we are in Google Colab\n",
    "if 'google.colab' in sys.modules:\n",
    "  print(\"Running in Google Colab. Performing setup...\")\n",
    "  # Installation process for EQC-models to be operable in Google Colab\n",
    "  get_ipython().run_line_magic('shell', 'sudo apt-get update -y')\n",
    "  get_ipython().run_line_magic('shell', 'sudo apt-get install software-properties-common')\n",
    "  get_ipython().run_line_magic('shell', 'sudo add-apt-repository ppa:deadsnakes/ppa -y')\n",
    "  get_ipython().run_line_magic('shell', 'sudo apt-get update -y')\n",
    "  get_ipython().run_line_magic('shell', 'sudo apt-get install python3.10 python3.10-distutils -y')\n",
    "  get_ipython().run_line_magic('shell', 'sudo update-alternatives --install /usr/bin/python3 python3 /usr/bin/python3.10 1')\n",
    "  get_ipython().run_line_magic('shell', 'wget https://bootstrap.pypa.io/get-pip.py')\n",
    "  get_ipython().run_line_magic('shell', 'python3.10 get-pip.py')\n",
    "  get_ipython().run_line_magic('shell', 'python3.10 -m pip install eqc_models numpy matplotlib')\n",
    "  print(\"Colab setup complete.\")\n",
    "\n",
    "else:\n",
    "  print(\"Running in a local environment. Assuming packages are installed.\")\n",
    "\n",
    "# Now, your regular code can follow.\n",
    "# In Colab, you still need to use the !python3.10 trick to run your scripts.\n",
    "# In your local notebook, you can just run code in the cells as usual."
   ]
  },
  {
   "cell_type": "code",
   "execution_count": 1,
   "id": "a45595fc-7d4f-4430-89ab-1cbda607b928",
   "metadata": {},
   "outputs": [
    {
     "data": {
      "text/plain": [
       "array([[-1. ,  0.5,  0.5],\n",
       "       [ 0.5, -1. ,  0.5],\n",
       "       [ 0.5,  0.5, -1. ]])"
      ]
     },
     "execution_count": 1,
     "metadata": {},
     "output_type": "execute_result"
    }
   ],
   "source": [
    "import numpy as np\n",
    "from eqc_models.base import QuadraticModel\n",
    "\n",
    "C = np.array([-1.0, -1.0, -1.0])\n",
    "J = np.array([[0.0, 1.0, 1.0],\n",
    "              [0.0, 0.0, 1.0],\n",
    "              [0.0, 0.0, 0.0]])\n",
    "model = QuadraticModel(C, J)\n",
    "model.upper_bound = np.ones((3, ))\n",
    "model.qubo.Q"
   ]
  },
  {
   "cell_type": "code",
   "execution_count": 2,
   "id": "03d32833-fe06-4f50-9782-e9a8325e5ea7",
   "metadata": {},
   "outputs": [
    {
     "data": {
      "text/plain": [
       "array([[-1. ,  0. ,  0.5,  1. ,  0.5,  1. ],\n",
       "       [ 0. , -2. ,  1. ,  2. ,  1. ,  2. ],\n",
       "       [ 0.5,  1. , -1. ,  0. ,  0.5,  1. ],\n",
       "       [ 1. ,  2. ,  0. , -2. ,  1. ,  2. ],\n",
       "       [ 0.5,  1. ,  0.5,  1. , -1. ,  0. ],\n",
       "       [ 1. ,  2. ,  1. ,  2. ,  0. , -2. ]], dtype=float32)"
      ]
     },
     "execution_count": 2,
     "metadata": {},
     "output_type": "execute_result"
    }
   ],
   "source": [
    "model.upper_bound = 3*np.ones((3,))\n",
    "model.qubo.Q"
   ]
  },
  {
   "cell_type": "code",
   "execution_count": 3,
   "id": "d4d78363-8121-43cc-a445-46bd2ce0adbf",
   "metadata": {},
   "outputs": [
    {
     "name": "stdout",
     "output_type": "stream",
     "text": [
      "2025-03-14 23:01:17 - Dirac allocation balance = 0 s (unmetered)\n",
      "2025-03-14 23:01:17 - Job submitted: job_id='67d5099d00e804f113aefca4'\n",
      "2025-03-14 23:01:17 - QUEUED\n",
      "2025-03-14 23:01:20 - RUNNING\n",
      "2025-03-14 23:01:30 - COMPLETED\n",
      "2025-03-14 23:01:33 - Dirac allocation balance = 0 s (unmetered)\n"
     ]
    },
    {
     "data": {
      "text/plain": [
       "(array([0, 0, 3], dtype=int64), -3.0)"
      ]
     },
     "execution_count": 3,
     "metadata": {},
     "output_type": "execute_result"
    }
   ],
   "source": [
    "from eqc_models.solvers import Dirac1CloudSolver\n",
    "solver = Dirac1CloudSolver()\n",
    "Q = model.qubo.Q\n",
    "# qn = Q.shape[0]\n",
    "# qubomodel = QuadraticModel(np.zeros((qn,)), Q)\n",
    "# qubomodel.upper_bound = np.ones((qn,))\n",
    "response = solver.solve(model) # qubomodel)\n",
    "# response[\"results\"][\"solutions\"], model.qubo.evaluate(np.array(response[\"results\"][\"solutions\"][0]))\n",
    "solution = model.decode(np.array(response[\"results\"][\"solutions\"][0]), \"qubo\")\n",
    "solution, model.evaluate(solution)"
   ]
  },
  {
   "cell_type": "markdown",
   "id": "2ae5a67a-30aa-4905-a15d-37c14eab49bc",
   "metadata": {},
   "source": [
    "### `PolynomialModel`\n",
    "\n",
    "$$\n",
    "E(x)=\\sum_i C_i x_i + \\sum_i\\sum_j J_{ij}x_ix_j + \\sum_i\\sum_j\\sum_k T_{ijk} x_ix_jx_k + \\sum_i\\sum_j\\sum_k\\sum_l Q_{ijkl} x_ix_jx_kx_l+ \\sum_i\\sum_j\\sum_k\\sum_l\\sum_m P_{ijklm} x_ix_jx_kx_lx_m .\n",
    "$$\n",
    "\n",
    "### `ConstraintsMixIn`\n",
    "\n",
    "The constraint mixin defines a standard method to convert a linear system of equality constraints into a penalty function, which is 0 for feasible solutions and positive for infeasible solutions.\n",
    "$$\n",
    "Ax=b\\Rightarrow P(x)=(Ax-b)^2\n",
    "$$\n",
    "\n",
    "### `InequalityConstraintMixIn`\n",
    "\n",
    "This adds a `senses` attribute which allows the definition of constraints with inequalities. These become equality constraints and are converted to penalties using the `Constraints\n"
   ]
  },
  {
   "cell_type": "code",
   "execution_count": 4,
   "id": "cdb35435-6fe1-401f-b275-69b1ea77f2c5",
   "metadata": {},
   "outputs": [],
   "source": [
    "from eqc_models.base.constraints import ConstraintsMixIn\n",
    "from eqc_models.base.polynomial import PolynomialModel\n",
    "class ConstraintExample(ConstraintsMixIn, PolynomialModel):\n",
    "    def __init__(self, coefficients, indices, lhs, rhs):\n",
    "        self.constraints = lhs, rhs\n",
    "        super(ConstraintExample,self).__init__(coefficients, indices)"
   ]
  },
  {
   "cell_type": "code",
   "execution_count": 7,
   "id": "7df06395-9bd5-4af3-bcfb-c796b3e48bdd",
   "metadata": {},
   "outputs": [
    {
     "name": "stdout",
     "output_type": "stream",
     "text": [
      "2025-03-14 23:04:11 - Dirac allocation balance = 0 s (unmetered)\n",
      "2025-03-14 23:04:11 - Job submitted: job_id='67d50a4b00e804f113aefcaa'\n",
      "2025-03-14 23:04:11 - QUEUED\n",
      "2025-03-14 23:04:14 - RUNNING\n",
      "2025-03-14 23:04:24 - COMPLETED\n",
      "2025-03-14 23:04:27 - Dirac allocation balance = 0 s (unmetered)\n"
     ]
    },
    {
     "data": {
      "text/plain": [
       "(array([1, 0, 1]), array([-1.]))"
      ]
     },
     "execution_count": 7,
     "metadata": {},
     "output_type": "execute_result"
    }
   ],
   "source": [
    "A = np.array([[1, 0, -1]])\n",
    "b = np.array([0])\n",
    "coeff = model.polynomial.coefficients\n",
    "indices = model.polynomial.indices\n",
    "constraint_model = ConstraintExample(coeff, indices, A, b)\n",
    "constraint_model.upper_bound = np.ones((3,))\n",
    "constraint_model.penalty_multiplier = alpha = 2\n",
    "response = solver.solve(constraint_model)\n",
    "solution = np.array(response[\"results\"][\"solutions\"][0])\n",
    "np.array(solution), constraint_model.polynomial.pure_evaluate(solution) + alpha * constraint_model.offset"
   ]
  },
  {
   "cell_type": "markdown",
   "id": "36824934-3f14-419f-9d75-8d6c3afea1b4",
   "metadata": {},
   "source": [
    "## Problem Type Classes\n",
    "\n",
    "Two categories- ML and Decision Optimization.\n",
    "\n",
    "### Decision Optimization\n",
    "\n",
    "- `QAPModel`\n",
    "- `SetPartitionModel`\n",
    "- `SetCoverModel`\n",
    "- `MTZTSPModel`\n",
    "- `AllocationModel`\n",
    "- `PortMomentum`\n",
    "- `MaxCutModel`\n",
    "- `GraphPartitionModel`\n",
    "\n",
    "### Machine Learning\n",
    "\n",
    "- `QBoostClassifier`\n",
    "- `QSVMClassifier`\n",
    "- `PCA`\n",
    "- `LinearRegression`\n",
    "\n",
    "### Algorithms\n",
    "\n",
    "- `PenaltyMultiplierAlgorithm`"
   ]
  },
  {
   "cell_type": "code",
   "execution_count": null,
   "id": "0e1c0ed5-e3f4-4b66-a8d2-91c4f4b68719",
   "metadata": {},
   "outputs": [],
   "source": [
    "# Download and execute set up script\n",
    "!wget -O py310.sh https://raw.githubusercontent.com/j3soon/colab-python-version/main/scripts/py310.sh\n",
    "!bash py310.sh"
   ]
  }
 ],
 "metadata": {
  "kernelspec": {
   "display_name": "EQCModels",
   "language": "python",
   "name": "python3"
  },
  "language_info": {
   "codemirror_mode": {
    "name": "ipython",
    "version": 3
   },
   "file_extension": ".py",
   "mimetype": "text/x-python",
   "name": "python",
   "nbconvert_exporter": "python",
   "pygments_lexer": "ipython3",
   "version": "3.10.18"
  }
 },
 "nbformat": 4,
 "nbformat_minor": 5
}
